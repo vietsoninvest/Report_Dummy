{
 "cells": [
  {
   "cell_type": "code",
   "execution_count": 3,
   "id": "09a3690e",
   "metadata": {},
   "outputs": [
    {
     "name": "stdout",
     "output_type": "stream",
     "text": [
      "Created Json/data_month_8.json with 4935 records\n",
      "Created Json/data_month_9.json with 3155 records\n",
      "JSON files created successfully.\n"
     ]
    }
   ],
   "source": [
    "import pandas as pd\n",
    "import json\n",
    "import os\n",
    "\n",
    "# Load the data\n",
    "data_dir = 'data'\n",
    "output_dir = 'Json'  # Adjusted to be in the current directory level\n",
    "\n",
    "# Create output directory if it doesn't exist\n",
    "if not os.path.exists(output_dir):\n",
    "    os.makedirs(output_dir)\n",
    "\"\"\" \n",
    "====================\n",
    "EDIT HERE\n",
    "\"\"\"\n",
    "# Read the CSV file\n",
    "df = pd.read_csv(os.path.join(data_dir, '1stAugto18Sep_cleaned.csv'))\n",
    "\n",
    "# Convert date to string\n",
    "df['Date'] = pd.to_datetime(df['Date']).astype(str)\n",
    "\n",
    "# Ensure there are no NaN values\n",
    "df.fillna(\"\", inplace=True)\n",
    "\n",
    "# Split data by month\n",
    "df['Month'] = pd.to_datetime(df['Date']).dt.month\n",
    "for month in df['Month'].unique():\n",
    "    month_df = df[df['Month'] == month]\n",
    "    month_data = month_df.to_dict(orient='records')\n",
    "    filename = f'{output_dir}/data_month_{month}.json'\n",
    "    with open(filename, 'w') as f:\n",
    "        json.dump(month_data, f, indent=2)\n",
    "    print(f'Created {filename} with {len(month_data)} records')\n",
    "\n",
    "print(\"JSON files created successfully.\")\n"
   ]
  },
  {
   "cell_type": "code",
   "execution_count": null,
   "id": "714e2964",
   "metadata": {},
   "outputs": [],
   "source": []
  }
 ],
 "metadata": {
  "kernelspec": {
   "display_name": "Python 3",
   "language": "python",
   "name": "python3"
  },
  "language_info": {
   "codemirror_mode": {
    "name": "ipython",
    "version": 3
   },
   "file_extension": ".py",
   "mimetype": "text/x-python",
   "name": "python",
   "nbconvert_exporter": "python",
   "pygments_lexer": "ipython3",
   "version": "3.10.5"
  }
 },
 "nbformat": 4,
 "nbformat_minor": 5
}
